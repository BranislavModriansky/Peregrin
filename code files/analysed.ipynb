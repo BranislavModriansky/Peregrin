{
 "cells": [
  {
   "cell_type": "markdown",
   "metadata": {},
   "source": [
    "# Analysis\n",
    "---\n",
    "## Libraries\n",
    "Importing **libraries** and abbreviating **functions**:"
   ]
  },
  {
   "cell_type": "code",
   "execution_count": 1,
   "metadata": {},
   "outputs": [],
   "source": [
    "import pandas as pd\n",
    "import numpy as np\n",
    "import matplotlib.pyplot as plt\n",
    "from matplotlib.patches import FancyArrowPatch, Circle\n",
    "import matplotlib.colors as mcolors\n",
    "from matplotlib.colors import Normalize, ListedColormap\n",
    "import matplotlib.colorbar as colorbar\n",
    "import matplotlib.gridspec as gridspec\n",
    "from matplotlib.widgets import Slider\n",
    "import matplotlib.animation as animation\n",
    "import matplotlib as mat\n",
    "import os\n",
    "import os.path as op\n",
    "from scipy.stats import gaussian_kde\n",
    "from matplotlib import font_manager as fm\n",
    "import seaborn as sea\n",
    "import statsmodels.api as sm\n",
    "from scipy.interpolate import make_interp_spline\n",
    "from scipy.stats import rayleigh, norm\n",
    "from sklearn.model_selection import GridSearchCV\n",
    "from sklearn.neighbors import KernelDensity\n",
    "from matplotlib.offsetbox import OffsetImage, AnnotationBbox\n",
    "from scipy.signal import savgol_filter\n",
    "from peregrin.scripts import PlotParams, FilesAndFolders"
   ]
  },
  {
   "cell_type": "markdown",
   "metadata": {},
   "source": [
    "## Input and Output paths, Files, Folders\n",
    "---\n",
    "Defining the data **input** - assigning the .csv data file's path to a variable \"input_file\". *If a folder on the Bryjalab server is selected, the user must be logged in while running the script. Also, just a reminder not to forget about activating the VPN connection when working from home ;)*\n",
    "\n",
    "Defining the analysis's **output** - assigning a folder path to a variable \"save_path\" into which all the files created will be saved."
   ]
  },
  {
   "cell_type": "code",
   "execution_count": null,
   "metadata": {},
   "outputs": [],
   "source": [
    "# input file path:\n",
    "input_file = r\"Z:\\Shared\\bryjalab\\users\\Branislav\\Collagen Migration Assay DATA\\data 23-7-24\\run1\\position_4!\\C2-position_spots.csv\"\n",
    "\n",
    "# save path:\n",
    "save_path = r\"Z:\\Shared\\bryjalab\\users\\Branislav\\Collagen Migration Assay DATA\\data 23-7-24\\run1\\position_4!\\analysed\""
   ]
  },
  {
   "cell_type": "markdown",
   "metadata": {},
   "source": [
    "---\n",
    "Loading the *.csv* **input file** as a DataFrame into the \"df\" variable:"
   ]
  },
  {
   "cell_type": "code",
   "execution_count": null,
   "metadata": {},
   "outputs": [],
   "source": [
    "df = pd.read_csv(input_file)"
   ]
  }
 ],
 "metadata": {
  "kernelspec": {
   "display_name": "peregrin",
   "language": "python",
   "name": "python3"
  },
  "language_info": {
   "codemirror_mode": {
    "name": "ipython",
    "version": 3
   },
   "file_extension": ".py",
   "mimetype": "text/x-python",
   "name": "python",
   "nbconvert_exporter": "python",
   "pygments_lexer": "ipython3",
   "version": "3.13.0"
  }
 },
 "nbformat": 4,
 "nbformat_minor": 2
}
